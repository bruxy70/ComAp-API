{
 "cells": [
  {
   "cell_type": "markdown",
   "metadata": {},
   "source": [
    "# Asyncio test"
   ]
  },
  {
   "cell_type": "markdown",
   "metadata": {},
   "source": [
    "## Inicialization"
   ]
  },
  {
   "cell_type": "code",
   "execution_count": 1,
   "metadata": {},
   "outputs": [],
   "source": [
    "from config import KEY, TOKEN \n",
    "from comap.api_async import wsv_async\n",
    "import asyncio\n",
    "import aiohttp\n",
    "\n",
    "session = aiohttp.ClientSession(raise_for_status=True)\n",
    "wsv = wsv_async(session, KEY, TOKEN)"
   ]
  },
  {
   "cell_type": "markdown",
   "metadata": {},
   "source": [
    "## Units"
   ]
  },
  {
   "cell_type": "code",
   "execution_count": 2,
   "metadata": {},
   "outputs": [
    {
     "name": "stdout",
     "output_type": "stream",
     "text": [
      "IL3 AMF25 - nahradnik - GSM - test\n",
      "IL-NT\n",
      "ID FLX lite\n",
      "Cogeneration unit ABB Prague\n",
      "ID-Lite\n",
      "IA-NT STD\n",
      "IC-NT Mint\n",
      "ID-EM\n",
      "Harvester Goa\n",
      "Habana hospital\n",
      "IG-NT SPtM &#x28;CHP&#x29;\n",
      "AIO GAS\n",
      "New marine\n",
      "IL9\n",
      "Controller Parallel\n",
      "test33\n",
      "sifrovani IL3\n",
      "C07 - Hybrid Master\n",
      "IG200_VAJL\n"
     ]
    }
   ],
   "source": [
    "for unit in await wsv.async_units():\n",
    "    print(unit[\"name\"])"
   ]
  },
  {
   "cell_type": "markdown",
   "metadata": {},
   "source": [
    "## Info"
   ]
  },
  {
   "cell_type": "code",
   "execution_count": 3,
   "metadata": {},
   "outputs": [
    {
     "name": "stdout",
     "output_type": "stream",
     "text": [
      "Name      ID-EM\n",
      "Owner     storage\n",
      "Timezone  Europe/Prague\n",
      "Position  50.10697,14.45295\n"
     ]
    }
   ],
   "source": [
    "unitGuid = 'genset98a2e2828bde4ddb8d48fe5a39cade27'\n",
    "info = await wsv.async_info(unitGuid)\n",
    "values = [('Name', info['name']),\n",
    "          ('Owner', info['ownerLoginId']),\n",
    "          ('Timezone', info['timezone']),\n",
    "          ('Position', f'{info[\"position\"][\"latitude\"]},{info[\"position\"][\"longitude\"]}')\n",
    "]\n",
    "for desc, value in values:\n",
    "    print(f'{desc:10}{value}')"
   ]
  },
  {
   "cell_type": "markdown",
   "metadata": {},
   "source": [
    "## Values"
   ]
  },
  {
   "cell_type": "code",
   "execution_count": 4,
   "metadata": {},
   "outputs": [
    {
     "name": "stdout",
     "output_type": "stream",
     "text": [
      "ControllerMode   : MAN\n"
     ]
    }
   ],
   "source": [
    "from comap.constants import VALUE_GUID\n",
    "values = await wsv.async_values(\n",
    "    unitGuid,\n",
    "    f'{VALUE_GUID[\"mode\"]}, '\n",
    "    f'{VALUE_GUID[\"engine_state\"]}'\n",
    ")\n",
    "for value in values:\n",
    "    print(f'{value[\"name\"]:<16} : {value[\"value\"]}')"
   ]
  },
  {
   "cell_type": "markdown",
   "metadata": {},
   "source": [
    "## History"
   ]
  },
  {
   "cell_type": "code",
   "execution_count": 5,
   "metadata": {},
   "outputs": [
    {
     "name": "stdout",
     "output_type": "stream",
     "text": [
      "Ready    valid to 2019-09-19 08:52:44\n",
      "Ready    valid to 2019-09-19 12:50:23\n",
      "Ready    valid to 2019-09-21 06:29:23\n"
     ]
    }
   ],
   "source": [
    "history = await wsv.async_history(\n",
    "    unitGuid,\n",
    "    '09/19/2019',\n",
    "    '09/20/2019',\n",
    "    VALUE_GUID[\"engine_state\"]\n",
    ")\n",
    "for event in history[0][\"history\"]:\n",
    "    print(f'{event[\"value\"]:<8} valid to {event[\"validTo\"]}')"
   ]
  },
  {
   "cell_type": "markdown",
   "metadata": {},
   "source": [
    "## Files"
   ]
  },
  {
   "cell_type": "code",
   "execution_count": 6,
   "metadata": {},
   "outputs": [
    {
     "name": "stdout",
     "output_type": "stream",
     "text": [
      "2019-09-19 18:45:42 unitHistory [2019-09-19_20-44_ID-EM.csv]\n",
      "2019-09-19 18:47:27 unitHistory [2019-09-19_20-45_ID-EM.csv]\n"
     ]
    }
   ],
   "source": [
    "for file in await wsv.async_files(unitGuid):\n",
    "    print(f'{file[\"generated\"]} {file[\"fileType\"]} [{file[\"fileName\"]}]')"
   ]
  },
  {
   "cell_type": "markdown",
   "metadata": {},
   "source": [
    "## Comments"
   ]
  },
  {
   "cell_type": "code",
   "execution_count": 7,
   "metadata": {},
   "outputs": [
    {
     "name": "stdout",
     "output_type": "stream",
     "text": [
      "Vaclav Chaloupka   2019-09-19 17:08:15 Ciao\n"
     ]
    }
   ],
   "source": [
    "for comment in await wsv.async_comments(unitGuid):\n",
    "    print(f'{comment[\"author\"]:<18} {comment[\"date\"]} {comment[\"text\"]}')"
   ]
  },
  {
   "cell_type": "markdown",
   "metadata": {},
   "source": [
    "## Close session"
   ]
  },
  {
   "cell_type": "code",
   "execution_count": 8,
   "metadata": {},
   "outputs": [],
   "source": [
    "await session.close()"
   ]
  }
 ],
 "metadata": {
  "kernelspec": {
   "display_name": "Python 3",
   "language": "python",
   "name": "python3"
  },
  "language_info": {
   "codemirror_mode": {
    "name": "ipython",
    "version": 3
   },
   "file_extension": ".py",
   "mimetype": "text/x-python",
   "name": "python",
   "nbconvert_exporter": "python",
   "pygments_lexer": "ipython3",
   "version": "3.7.4"
  }
 },
 "nbformat": 4,
 "nbformat_minor": 2
}
